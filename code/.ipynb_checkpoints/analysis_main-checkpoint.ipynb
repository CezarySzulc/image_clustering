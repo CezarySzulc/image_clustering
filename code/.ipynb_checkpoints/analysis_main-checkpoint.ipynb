{
 "cells": [
  {
   "cell_type": "code",
   "execution_count": 3,
   "metadata": {},
   "outputs": [
    {
     "name": "stdout",
     "output_type": "stream",
     "text": [
      "total 648888\r\n",
      "-rw-r--r--@ 1 szulcc  staff  114059281 Feb  1 15:19 index.csv\r\n",
      "-rw-r--r--@ 1 szulcc  staff  202096061 Feb  1 15:20 sample_submission.csv\r\n",
      "-rw-r--r--@ 1 szulcc  staff   16070633 Feb  1 15:19 test.csv\r\n"
     ]
    }
   ],
   "source": [
    "! ls -l ../data"
   ]
  },
  {
   "cell_type": "code",
   "execution_count": 35,
   "metadata": {},
   "outputs": [],
   "source": [
    "import pandas as pd\n",
    "from urllib import request, error\n",
    "import matplotlib.pyplot as plt\n",
    "from bs4 import BeautifulSoup\n",
    "\n",
    "%matplotlib inline"
   ]
  },
  {
   "cell_type": "markdown",
   "metadata": {},
   "source": [
    "Import index file and check the head of this file. It should contain urls to images."
   ]
  },
  {
   "cell_type": "code",
   "execution_count": 6,
   "metadata": {},
   "outputs": [
    {
     "data": {
      "text/html": [
       "<div>\n",
       "<style scoped>\n",
       "    .dataframe tbody tr th:only-of-type {\n",
       "        vertical-align: middle;\n",
       "    }\n",
       "\n",
       "    .dataframe tbody tr th {\n",
       "        vertical-align: top;\n",
       "    }\n",
       "\n",
       "    .dataframe thead th {\n",
       "        text-align: right;\n",
       "    }\n",
       "</style>\n",
       "<table border=\"1\" class=\"dataframe\">\n",
       "  <thead>\n",
       "    <tr style=\"text-align: right;\">\n",
       "      <th></th>\n",
       "      <th>id</th>\n",
       "      <th>url</th>\n",
       "    </tr>\n",
       "  </thead>\n",
       "  <tbody>\n",
       "    <tr>\n",
       "      <th>0</th>\n",
       "      <td>b09ea096f4daa42e</td>\n",
       "      <td>https://lh5.googleusercontent.com/-wBt6sklzbGs...</td>\n",
       "    </tr>\n",
       "    <tr>\n",
       "      <th>1</th>\n",
       "      <td>6648383c7b3a438c</td>\n",
       "      <td>https://lh3.googleusercontent.com/-OADWsOZq83E...</td>\n",
       "    </tr>\n",
       "    <tr>\n",
       "      <th>2</th>\n",
       "      <td>d485d9f770e40453</td>\n",
       "      <td>https://lh5.googleusercontent.com/-vtZFUTuFWGM...</td>\n",
       "    </tr>\n",
       "    <tr>\n",
       "      <th>3</th>\n",
       "      <td>e7cdfba9ec7e9dd5</td>\n",
       "      <td>https://lh4.googleusercontent.com/-Skq6Q-VUALk...</td>\n",
       "    </tr>\n",
       "    <tr>\n",
       "      <th>4</th>\n",
       "      <td>44806beb654e6410</td>\n",
       "      <td>https://lh4.googleusercontent.com/-6eIkjkr3j2w...</td>\n",
       "    </tr>\n",
       "  </tbody>\n",
       "</table>\n",
       "</div>"
      ],
      "text/plain": [
       "                 id                                                url\n",
       "0  b09ea096f4daa42e  https://lh5.googleusercontent.com/-wBt6sklzbGs...\n",
       "1  6648383c7b3a438c  https://lh3.googleusercontent.com/-OADWsOZq83E...\n",
       "2  d485d9f770e40453  https://lh5.googleusercontent.com/-vtZFUTuFWGM...\n",
       "3  e7cdfba9ec7e9dd5  https://lh4.googleusercontent.com/-Skq6Q-VUALk...\n",
       "4  44806beb654e6410  https://lh4.googleusercontent.com/-6eIkjkr3j2w..."
      ]
     },
     "execution_count": 6,
     "metadata": {},
     "output_type": "execute_result"
    }
   ],
   "source": [
    "df_index = pd.read_csv('../data/index.csv')\n",
    "df_index.head()"
   ]
  },
  {
   "cell_type": "code",
   "execution_count": 8,
   "metadata": {},
   "outputs": [
    {
     "data": {
      "text/plain": [
       "'https://lh5.googleusercontent.com/-wBt6sklzbGs/SZGP_M9fmVI/AAAAAAAAAI8/CPeKaQtSpwA/s1600/'"
      ]
     },
     "execution_count": 8,
     "metadata": {},
     "output_type": "execute_result"
    }
   ],
   "source": [
    "df_index.iloc[0, 1]"
   ]
  },
  {
   "cell_type": "code",
   "execution_count": 31,
   "metadata": {},
   "outputs": [],
   "source": [
    "f = request.urlopen(\"http://matplotlib.sourceforge.net/_static/logo2.png\").read()"
   ]
  },
  {
   "cell_type": "code",
   "execution_count": 36,
   "metadata": {},
   "outputs": [],
   "source": [
    "soup = BeautifulSoup(f, \"lxml\")  "
   ]
  },
  {
   "cell_type": "code",
   "execution_count": null,
   "metadata": {
    "collapsed": true
   },
   "outputs": [],
   "source": []
  }
 ],
 "metadata": {
  "kernelspec": {
   "display_name": "Python 3",
   "language": "python",
   "name": "python3"
  },
  "language_info": {
   "codemirror_mode": {
    "name": "ipython",
    "version": 3
   },
   "file_extension": ".py",
   "mimetype": "text/x-python",
   "name": "python",
   "nbconvert_exporter": "python",
   "pygments_lexer": "ipython3",
   "version": "3.6.3"
  }
 },
 "nbformat": 4,
 "nbformat_minor": 2
}
