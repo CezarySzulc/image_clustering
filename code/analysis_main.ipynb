{
 "cells": [
  {
   "cell_type": "code",
   "execution_count": 1,
   "metadata": {},
   "outputs": [
    {
     "name": "stdout",
     "output_type": "stream",
     "text": [
      "total 648888\r\n",
      "drwxr-xr-x  314 szulcc  staff      10676 Mar 26 17:51 \u001b[34mimages\u001b[m\u001b[m\r\n",
      "-rw-r--r--@   1 szulcc  staff  114059281 Feb  1 15:19 index.csv\r\n",
      "-rw-r--r--@   1 szulcc  staff  202096061 Feb  1 15:20 sample_submission.csv\r\n",
      "-rw-r--r--@   1 szulcc  staff   16070633 Feb  1 15:19 test.csv\r\n"
     ]
    }
   ],
   "source": [
    "! ls -l ../data"
   ]
  },
  {
   "cell_type": "code",
   "execution_count": 2,
   "metadata": {},
   "outputs": [],
   "source": [
    "import pandas as pd\n",
    "import matplotlib.pyplot as plt\n",
    "from urllib import request, error\n",
    "from tqdm import tqdm\n",
    "\n",
    "%matplotlib inline"
   ]
  },
  {
   "cell_type": "markdown",
   "metadata": {},
   "source": [
    "Import index file and check the head of this file. It should contain urls to images."
   ]
  },
  {
   "cell_type": "code",
   "execution_count": 3,
   "metadata": {},
   "outputs": [
    {
     "data": {
      "text/html": [
       "<div>\n",
       "<style scoped>\n",
       "    .dataframe tbody tr th:only-of-type {\n",
       "        vertical-align: middle;\n",
       "    }\n",
       "\n",
       "    .dataframe tbody tr th {\n",
       "        vertical-align: top;\n",
       "    }\n",
       "\n",
       "    .dataframe thead th {\n",
       "        text-align: right;\n",
       "    }\n",
       "</style>\n",
       "<table border=\"1\" class=\"dataframe\">\n",
       "  <thead>\n",
       "    <tr style=\"text-align: right;\">\n",
       "      <th></th>\n",
       "      <th>id</th>\n",
       "      <th>url</th>\n",
       "    </tr>\n",
       "  </thead>\n",
       "  <tbody>\n",
       "    <tr>\n",
       "      <th>0</th>\n",
       "      <td>b09ea096f4daa42e</td>\n",
       "      <td>https://lh5.googleusercontent.com/-wBt6sklzbGs...</td>\n",
       "    </tr>\n",
       "    <tr>\n",
       "      <th>1</th>\n",
       "      <td>6648383c7b3a438c</td>\n",
       "      <td>https://lh3.googleusercontent.com/-OADWsOZq83E...</td>\n",
       "    </tr>\n",
       "    <tr>\n",
       "      <th>2</th>\n",
       "      <td>d485d9f770e40453</td>\n",
       "      <td>https://lh5.googleusercontent.com/-vtZFUTuFWGM...</td>\n",
       "    </tr>\n",
       "    <tr>\n",
       "      <th>3</th>\n",
       "      <td>e7cdfba9ec7e9dd5</td>\n",
       "      <td>https://lh4.googleusercontent.com/-Skq6Q-VUALk...</td>\n",
       "    </tr>\n",
       "    <tr>\n",
       "      <th>4</th>\n",
       "      <td>44806beb654e6410</td>\n",
       "      <td>https://lh4.googleusercontent.com/-6eIkjkr3j2w...</td>\n",
       "    </tr>\n",
       "  </tbody>\n",
       "</table>\n",
       "</div>"
      ],
      "text/plain": [
       "                 id                                                url\n",
       "0  b09ea096f4daa42e  https://lh5.googleusercontent.com/-wBt6sklzbGs...\n",
       "1  6648383c7b3a438c  https://lh3.googleusercontent.com/-OADWsOZq83E...\n",
       "2  d485d9f770e40453  https://lh5.googleusercontent.com/-vtZFUTuFWGM...\n",
       "3  e7cdfba9ec7e9dd5  https://lh4.googleusercontent.com/-Skq6Q-VUALk...\n",
       "4  44806beb654e6410  https://lh4.googleusercontent.com/-6eIkjkr3j2w..."
      ]
     },
     "execution_count": 3,
     "metadata": {},
     "output_type": "execute_result"
    }
   ],
   "source": [
    "df_index = pd.read_csv('../data/index.csv')\n",
    "df_index.head()"
   ]
  },
  {
   "cell_type": "code",
   "execution_count": null,
   "metadata": {},
   "outputs": [
    {
     "data": {
      "text/plain": [
       "'https://lh5.googleusercontent.com/-wBt6sklzbGs/SZGP_M9fmVI/AAAAAAAAAI8/CPeKaQtSpwA/s1600/'"
      ]
     },
     "execution_count": 4,
     "metadata": {},
     "output_type": "execute_result"
    }
   ],
   "source": [
    "df_index.loc[0, 'url']"
   ]
  },
  {
   "cell_type": "markdown",
   "metadata": {},
   "source": [
    "Save all traning images to folder 'data/images'."
   ]
  },
  {
   "cell_type": "code",
   "execution_count": null,
   "metadata": {},
   "outputs": [
    {
     "name": "stderr",
     "output_type": "stream",
     "text": [
      "  0%|          | 3942/1098461 [11:22<52:38:18,  5.78it/s]"
     ]
    }
   ],
   "source": [
    "error_404 = []\n",
    "for index in tqdm(df_index.index):\n",
    "    try:\n",
    "        request.urlretrieve(df_index.loc[index, 'url'], '../data/images/{}.jpg'.format(df_index.loc[index, 'id']))\n",
    "    except:\n",
    "        error_404.append(df_index.loc[index, 'id'])"
   ]
  },
  {
   "cell_type": "code",
   "execution_count": null,
   "metadata": {},
   "outputs": [],
   "source": [
    "len(error_404)"
   ]
  },
  {
   "cell_type": "code",
   "execution_count": null,
   "metadata": {
    "collapsed": true
   },
   "outputs": [],
   "source": []
  }
 ],
 "metadata": {
  "kernelspec": {
   "display_name": "Python 3",
   "language": "python",
   "name": "python3"
  },
  "language_info": {
   "codemirror_mode": {
    "name": "ipython",
    "version": 3
   },
   "file_extension": ".py",
   "mimetype": "text/x-python",
   "name": "python",
   "nbconvert_exporter": "python",
   "pygments_lexer": "ipython3",
   "version": "3.6.3"
  }
 },
 "nbformat": 4,
 "nbformat_minor": 2
}
